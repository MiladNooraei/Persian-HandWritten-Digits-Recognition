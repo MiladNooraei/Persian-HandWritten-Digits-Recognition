{
 "cells": [
  {
   "cell_type": "markdown",
   "metadata": {},
   "source": [
    "**Libraries**"
   ]
  },
  {
   "cell_type": "code",
   "execution_count": 1,
   "metadata": {},
   "outputs": [
    {
     "name": "stdout",
     "output_type": "stream",
     "text": [
      "WARNING:tensorflow:From e:\\Quera\\qenv\\lib\\site-packages\\keras\\src\\losses.py:2976: The name tf.losses.sparse_softmax_cross_entropy is deprecated. Please use tf.compat.v1.losses.sparse_softmax_cross_entropy instead.\n",
      "\n"
     ]
    }
   ],
   "source": [
    "import os\n",
    "import cv2\n",
    "import numpy as np\n",
    "from sklearn import svm\n",
    "import matplotlib.pyplot as plt\n",
    "from tensorflow.keras.layers import Dense\n",
    "from sklearn.metrics import accuracy_score\n",
    "from tensorflow.keras.optimizers import Adam\n",
    "from tensorflow.keras.models import Sequential\n",
    "from sklearn.preprocessing import StandardScaler\n",
    "from tensorflow.keras.utils import to_categorical\n",
    "from sklearn.model_selection import train_test_split"
   ]
  },
  {
   "cell_type": "markdown",
   "metadata": {},
   "source": [
    "**Image Preparation**"
   ]
  },
  {
   "cell_type": "code",
   "execution_count": 2,
   "metadata": {},
   "outputs": [],
   "source": [
    "def load_custom_dataset(dataset_path):\n",
    "    images = []\n",
    "    labels = []\n",
    "    for label in range(10):\n",
    "        folder_path = os.path.join(dataset_path, str(label))\n",
    "        for filename in os.listdir(folder_path):\n",
    "            image_path = os.path.join(folder_path, filename)\n",
    "            images.append(preprocess_image(image_path))\n",
    "            labels.append(label)\n",
    "        print(f\"Label {label}: Done!\")\n",
    "    return np.array(images), np.array(labels)\n",
    "\n",
    "def preprocess_image(image_path):\n",
    "    image = cv2.imread(image_path, cv2.IMREAD_GRAYSCALE)\n",
    "    resized_image = cv2.resize(image, (8, 8))\n",
    "    return resized_image.flatten()"
   ]
  },
  {
   "cell_type": "markdown",
   "metadata": {},
   "source": [
    "**Loading Dataset**"
   ]
  },
  {
   "cell_type": "code",
   "execution_count": 3,
   "metadata": {},
   "outputs": [
    {
     "name": "stdout",
     "output_type": "stream",
     "text": [
      "Label 0: Done!\n",
      "Label 1: Done!\n",
      "Label 2: Done!\n",
      "Label 3: Done!\n",
      "Label 4: Done!\n",
      "Label 5: Done!\n",
      "Label 6: Done!\n",
      "Label 7: Done!\n",
      "Label 8: Done!\n",
      "Label 9: Done!\n"
     ]
    }
   ],
   "source": [
    "dataset_path = \"E:/Quera/AI_Project/Train\"\n",
    "X, y = load_custom_dataset(dataset_path)\n",
    "\n",
    "# Split the dataset into training and testing sets\n",
    "X_train, X_test, y_train, y_test = train_test_split(X, y, test_size = 0.2, random_state = 42)\n",
    "\n",
    "# Standardize the data\n",
    "scaler = StandardScaler()\n",
    "X_train_scaled = scaler.fit_transform(X_train)\n",
    "X_test_scaled = scaler.transform(X_test)"
   ]
  },
  {
   "cell_type": "markdown",
   "metadata": {},
   "source": [
    "**Implement Support Vector Machine (SVM) Algorithm**"
   ]
  },
  {
   "cell_type": "code",
   "execution_count": 4,
   "metadata": {},
   "outputs": [
    {
     "name": "stdout",
     "output_type": "stream",
     "text": [
      "SVM Accuracy: 0.989002199560088\n"
     ]
    }
   ],
   "source": [
    "# Using Support Vector Machine (SVM) classifier\n",
    "clf = svm.SVC()\n",
    "clf.fit(X_train_scaled, y_train)\n",
    "\n",
    "# Predictions\n",
    "y_pred = clf.predict(X_test_scaled)\n",
    "\n",
    "# Calculate accuracy\n",
    "accuracy = accuracy_score(y_test, y_pred)\n",
    "print(f\"SVM Accuracy: {accuracy}\")"
   ]
  },
  {
   "cell_type": "markdown",
   "metadata": {},
   "source": [
    "**NEURAL NETWORK**"
   ]
  },
  {
   "cell_type": "code",
   "execution_count": 5,
   "metadata": {},
   "outputs": [
    {
     "name": "stdout",
     "output_type": "stream",
     "text": [
      "WARNING:tensorflow:From e:\\Quera\\qenv\\lib\\site-packages\\keras\\src\\backend.py:873: The name tf.get_default_graph is deprecated. Please use tf.compat.v1.get_default_graph instead.\n",
      "\n",
      "WARNING:tensorflow:From e:\\Quera\\qenv\\lib\\site-packages\\keras\\src\\utils\\tf_utils.py:492: The name tf.ragged.RaggedTensorValue is deprecated. Please use tf.compat.v1.ragged.RaggedTensorValue instead.\n",
      "\n",
      "WARNING:tensorflow:From e:\\Quera\\qenv\\lib\\site-packages\\keras\\src\\engine\\base_layer_utils.py:384: The name tf.executing_eagerly_outside_functions is deprecated. Please use tf.compat.v1.executing_eagerly_outside_functions instead.\n",
      "\n",
      "2501/2501 [==============================] - 11s 4ms/step - loss: 0.1477 - accuracy: 0.9562 - val_loss: 0.0543 - val_accuracy: 0.9826\n",
      "Epoch 1/10 - Accuracy: 0.9562087655067444, Loss: 0.14765648543834686\n",
      "2501/2501 [==============================] - 4s 2ms/step - loss: 0.0458 - accuracy: 0.9848 - val_loss: 0.0487 - val_accuracy: 0.9840\n",
      "Epoch 2/10 - Accuracy: 0.9848280549049377, Loss: 0.04578060284256935\n",
      "2501/2501 [==============================] - 4s 2ms/step - loss: 0.0365 - accuracy: 0.9880 - val_loss: 0.0392 - val_accuracy: 0.9868\n",
      "Epoch 3/10 - Accuracy: 0.9880273938179016, Loss: 0.03649420291185379\n",
      "2501/2501 [==============================] - 4s 2ms/step - loss: 0.0320 - accuracy: 0.9889 - val_loss: 0.0412 - val_accuracy: 0.9861\n",
      "Epoch 4/10 - Accuracy: 0.9888522028923035, Loss: 0.03198624774813652\n",
      "2501/2501 [==============================] - 4s 2ms/step - loss: 0.0288 - accuracy: 0.9901 - val_loss: 0.0411 - val_accuracy: 0.9875\n",
      "Epoch 5/10 - Accuracy: 0.9901394844055176, Loss: 0.028818143531680107\n",
      "2501/2501 [==============================] - 7s 3ms/step - loss: 0.0264 - accuracy: 0.9911 - val_loss: 0.0356 - val_accuracy: 0.9883\n",
      "Epoch 6/10 - Accuracy: 0.9910517930984497, Loss: 0.026379406452178955\n",
      "2501/2501 [==============================] - 4s 2ms/step - loss: 0.0238 - accuracy: 0.9919 - val_loss: 0.0387 - val_accuracy: 0.9878\n",
      "Epoch 7/10 - Accuracy: 0.9918641448020935, Loss: 0.023830251768231392\n",
      "2501/2501 [==============================] - 4s 2ms/step - loss: 0.0225 - accuracy: 0.9921 - val_loss: 0.0345 - val_accuracy: 0.9902\n",
      "Epoch 8/10 - Accuracy: 0.9920516014099121, Loss: 0.022470640018582344\n",
      "2501/2501 [==============================] - 4s 2ms/step - loss: 0.0218 - accuracy: 0.9923 - val_loss: 0.0348 - val_accuracy: 0.9894\n",
      "Epoch 9/10 - Accuracy: 0.9922890663146973, Loss: 0.021806713193655014\n",
      "2501/2501 [==============================] - 4s 2ms/step - loss: 0.0203 - accuracy: 0.9931 - val_loss: 0.0375 - val_accuracy: 0.9891\n",
      "Epoch 10/10 - Accuracy: 0.9931013584136963, Loss: 0.020334085449576378\n"
     ]
    }
   ],
   "source": [
    "# Convert labels to one-hot encoding\n",
    "y_train_categorical = to_categorical(y_train, num_classes = 10)\n",
    "y_test_categorical = to_categorical(y_test, num_classes = 10)\n",
    "\n",
    "# Build a simple neural network\n",
    "model = Sequential()\n",
    "model.add(Dense(64, input_dim = 64, activation = \"relu\"))\n",
    "model.add(Dense(32, activation = \"relu\"))\n",
    "model.add(Dense(10, activation = \"softmax\"))\n",
    "\n",
    "# Compile the model\n",
    "model.compile(optimizer = Adam(), loss = \"categorical_crossentropy\", metrics = [\"accuracy\"])\n",
    "\n",
    "# Train the model\n",
    "epochs = 10\n",
    "for epoch in range(epochs):\n",
    "    history = model.fit(X_train_scaled, y_train_categorical, epochs = 1, batch_size = 32, validation_data = (X_test_scaled, y_test_categorical))\n",
    "\n",
    "    # Print accuracy and loss\n",
    "    print(f\"Epoch {epoch + 1}/{epochs} - Accuracy: {history.history['accuracy'][0]}, Loss: {history.history['loss'][0]}\")"
   ]
  },
  {
   "cell_type": "markdown",
   "metadata": {},
   "source": [
    "**Visualization**"
   ]
  },
  {
   "cell_type": "code",
   "execution_count": 17,
   "metadata": {},
   "outputs": [
    {
     "name": "stdout",
     "output_type": "stream",
     "text": [
      "1/1 [==============================] - 0s 43ms/step\n"
     ]
    },
    {
     "data": {
      "image/png": "[encoded data removed]",
      "text/plain": [
       "<Figure size 1200x400 with 3 Axes>"
      ]
     },
     "metadata": {},
     "output_type": "display_data"
    }
   ],
   "source": [
    "def visualize_prediction(image_path):\n",
    "    # Load and preprocess the image\n",
    "    test_image = preprocess_image(image_path)\n",
    "    test_image_scaled = scaler.transform([test_image])\n",
    "\n",
    "    # SVM prediction\n",
    "    svm_prediction = clf.predict(test_image_scaled)[0]\n",
    "\n",
    "    # Neural network prediction\n",
    "    nn_prediction = np.argmax(model.predict(test_image_scaled))\n",
    "\n",
    "    # Original image\n",
    "    original_image = cv2.imread(image_path, cv2.IMREAD_GRAYSCALE)\n",
    "\n",
    "    # Plot three images side by side\n",
    "    plt.figure(figsize = (12, 4))\n",
    "    \n",
    "    plt.subplot(1, 3, 1)\n",
    "    plt.imshow(original_image, cmap = \"gray\")\n",
    "    plt.title(\"Original Image\")\n",
    "\n",
    "    plt.subplot(1, 3, 2)\n",
    "    plt.imshow(test_image.reshape(8, 8), cmap = \"gray\")\n",
    "    plt.title(f\"SVM Prediction: {svm_prediction}\")\n",
    "\n",
    "    plt.subplot(1, 3, 3)\n",
    "    plt.imshow(test_image.reshape(8, 8), cmap = \"gray\")\n",
    "    plt.title(f\"NN Prediction: {nn_prediction}\")\n",
    "\n",
    "    plt.show()\n",
    "\n",
    "# Example usage\n",
    "image_to_predict = \"D:/image_10513.jpg\"\n",
    "visualize_prediction(image_to_predict)"
   ]
  }
 ],
 "metadata": {
  "kernelspec": {
   "display_name": "qenv",
   "language": "python",
   "name": "python3"
  },
  "language_info": {
   "codemirror_mode": {
    "name": "ipython",
    "version": 3
   },
   "file_extension": ".py",
   "mimetype": "text/x-python",
   "name": "python",
   "nbconvert_exporter": "python",
   "pygments_lexer": "ipython3",
   "version": "3.9.6"
  }
 },
 "nbformat": 4,
 "nbformat_minor": 2
}
